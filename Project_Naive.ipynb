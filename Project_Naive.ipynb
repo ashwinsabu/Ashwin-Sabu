{
  "nbformat": 4,
  "nbformat_minor": 0,
  "metadata": {
    "colab": {
      "provenance": [],
      "gpuType": "T4",
      "authorship_tag": "ABX9TyPfTHwYqsCaFIuViO9g6XTb",
      "include_colab_link": true
    },
    "kernelspec": {
      "name": "python3",
      "display_name": "Python 3"
    },
    "language_info": {
      "name": "python"
    },
    "accelerator": "GPU"
  },
  "cells": [
    {
      "cell_type": "markdown",
      "metadata": {
        "id": "view-in-github",
        "colab_type": "text"
      },
      "source": [
        "<a href=\"https://colab.research.google.com/github/ashwinsabu/Ashwin-Sabu/blob/master/Project_Naive.ipynb\" target=\"_parent\"><img src=\"https://colab.research.google.com/assets/colab-badge.svg\" alt=\"Open In Colab\"/></a>"
      ]
    },
    {
      "cell_type": "markdown",
      "source": [
        "Naive Bayes Classifier"
      ],
      "metadata": {
        "id": "94BFegpW8tKz"
      }
    },
    {
      "cell_type": "code",
      "source": [
        "import pandas as pd\n",
        "from sklearn.model_selection import train_test_split\n",
        "from sklearn.feature_extraction.text import CountVectorizer\n",
        "from sklearn.naive_bayes import MultinomialNB\n",
        "from sklearn.preprocessing import LabelEncoder, MinMaxScaler\n",
        "from sklearn.metrics import accuracy_score\n",
        "from scipy.sparse import hstack"
      ],
      "metadata": {
        "id": "B2qa7DGp8csp"
      },
      "execution_count": 1,
      "outputs": []
    },
    {
      "cell_type": "code",
      "source": [
        "# Load the CSV file into a DataFrame\n",
        "file_path = 'job_descriptions_with_keywords.csv'  # Replace with the actual path\n",
        "data = pd.read_csv(file_path)"
      ],
      "metadata": {
        "id": "2DBDA4gs8zfb"
      },
      "execution_count": 3,
      "outputs": []
    },
    {
      "cell_type": "markdown",
      "source": [],
      "metadata": {
        "id": "3ojigQyh8r54"
      }
    },
    {
      "cell_type": "code",
      "source": [
        "def convert_salary_range(salary_range):\n",
        "    salary_range = salary_range.replace('$', '')\n",
        "    salary_range = salary_range.replace('K', '000')\n",
        "    parts = salary_range.split('-')\n",
        "    min_salary = int(parts[0].replace(',', ''))\n",
        "    max_salary = int(parts[1].replace(',', ''))\n",
        "    return (min_salary + max_salary) / 2\n"
      ],
      "metadata": {
        "id": "UdcNFn8688vN"
      },
      "execution_count": 9,
      "outputs": []
    },
    {
      "cell_type": "code",
      "source": [
        "data['Salary Range'] = data['Salary Range'].apply(convert_salary_range)"
      ],
      "metadata": {
        "id": "OHbHtZIN8-Tq"
      },
      "execution_count": 5,
      "outputs": []
    },
    {
      "cell_type": "code",
      "source": [
        "le_experience = LabelEncoder()\n",
        "le_qualifications = LabelEncoder()\n",
        "data['Experience'] = le_experience.fit_transform(data['Experience'])\n",
        "data['Qualifications'] = le_qualifications.fit_transform(data['Qualifications'])"
      ],
      "metadata": {
        "id": "raC-5SEA9COb"
      },
      "execution_count": 6,
      "outputs": []
    },
    {
      "cell_type": "code",
      "source": [
        "X = data[['Experience', 'Qualifications', 'Salary Range', 'skills']]\n",
        "y = data['Job Title']"
      ],
      "metadata": {
        "id": "mjSJ9epI9FGf"
      },
      "execution_count": 7,
      "outputs": []
    },
    {
      "cell_type": "code",
      "source": [
        "# Convert categorical target variable to numerical using LabelEncoder\n",
        "le_job_title = LabelEncoder()\n",
        "y = le_job_title.fit_transform(y)"
      ],
      "metadata": {
        "id": "oJsko9hF9IZ3"
      },
      "execution_count": 8,
      "outputs": []
    },
    {
      "cell_type": "code",
      "source": [
        "# Split data into training and testing sets (70-30 split)\n",
        "X_train, X_test, y_train, y_test = train_test_split(X, y, test_size=0.3, random_state=42)\n",
        "\n",
        "# Vectorize the 'skills' column using CountVectorizer\n",
        "vectorizer = CountVectorizer()\n",
        "X_train_skills = vectorizer.fit_transform(X_train['skills'])\n",
        "X_test_skills = vectorizer.transform(X_test['skills'])\n",
        "\n",
        "# Scale the numerical columns using MinMaxScaler\n",
        "scaler = MinMaxScaler()\n",
        "X_train_num = scaler.fit_transform(X_train[['Experience', 'Qualifications', 'Salary Range']])\n",
        "X_test_num = scaler.transform(X_test[['Experience', 'Qualifications', 'Salary Range']])\n",
        "\n",
        "# Combine the numerical and vectorized text features\n",
        "X_train_combined = hstack([X_train_num, X_train_skills])\n",
        "X_test_combined = hstack([X_test_num, X_test_skills])\n",
        "\n",
        "# Initialize the Naive Bayes classifier\n",
        "nb_model = MultinomialNB()\n",
        "\n",
        "# Train the Naive Bayes model\n",
        "nb_model.fit(X_train_combined, y_train)\n",
        "\n",
        "# Predict on the test data\n",
        "y_test_pred = nb_model.predict(X_test_combined)\n",
        "\n",
        "# Calculate testing accuracy\n",
        "test_accuracy = accuracy_score(y_test, y_test_pred)\n",
        "print(f\"Testing Accuracy: {test_accuracy}\")\n"
      ],
      "metadata": {
        "id": "GfM8h_mR9Q0e",
        "outputId": "e884fa35-d7cc-4449-9e37-3b506580dbe7",
        "colab": {
          "base_uri": "https://localhost:8080/"
        }
      },
      "execution_count": 12,
      "outputs": [
        {
          "output_type": "stream",
          "name": "stdout",
          "text": [
            "Testing Accuracy: 0.954\n"
          ]
        }
      ]
    }
  ]
}